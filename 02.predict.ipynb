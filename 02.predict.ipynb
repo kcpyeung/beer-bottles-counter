{
 "cells": [
  {
   "cell_type": "raw",
   "metadata": {},
   "source": [
    "# Prediction"
   ]
  },
  {
   "cell_type": "code",
   "execution_count": null,
   "metadata": {},
   "outputs": [],
   "source": [
    "# Import our class, and instantiate\n",
    "from vgg16 import Vgg16\n",
    "vgg = Vgg16.for_predicting('./models/vgg16')"
   ]
  },
  {
   "cell_type": "code",
   "execution_count": null,
   "metadata": {},
   "outputs": [],
   "source": [
    "what = vgg.get_batches('./data/predict', shuffle=False, batch_size=16)\n",
    "x, y = what.next()\n",
    "prediction = vgg.predict(x)\n",
    "labels = prediction[2]\n",
    "for i in range(len(labels)):\n",
    "    print(what.filenames[i] + \" -> \" + labels[i])\n"
   ]
  }
 ],
 "metadata": {
  "kernelspec": {
   "display_name": "Python 3",
   "language": "python",
   "name": "python3"
  },
  "language_info": {
   "codemirror_mode": {
    "name": "ipython",
    "version": 2
   },
   "file_extension": ".py",
   "mimetype": "text/x-python",
   "name": "python",
   "nbconvert_exporter": "python",
   "pygments_lexer": "ipython2",
   "version": "2.7.13"
  }
 },
 "nbformat": 4,
 "nbformat_minor": 2
}
